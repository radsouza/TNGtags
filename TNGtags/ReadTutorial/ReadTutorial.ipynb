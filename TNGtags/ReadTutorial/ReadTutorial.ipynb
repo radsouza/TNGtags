{
 "cells": [
  {
   "cell_type": "code",
   "execution_count": 3,
   "metadata": {},
   "outputs": [],
   "source": [
    "# import normal libraries\n",
    "import numpy as np\n",
    "import illustris_python as il\n",
    "import h5py\n",
    "\n",
    "import sys\n",
    "import os,sys,inspect\n",
    "import os.path\n"
   ]
  },
  {
   "cell_type": "code",
   "execution_count": 19,
   "metadata": {},
   "outputs": [],
   "source": [
    "import TNGtags.MakeTags.findAccTags as TAG"
   ]
  },
  {
   "cell_type": "code",
   "execution_count": 4,
   "metadata": {},
   "outputs": [],
   "source": [
    "# import matplotlib libraries for plotting.\n",
    "import matplotlib.pyplot as plt\n",
    "%matplotlib inline\n",
    "\n",
    "\n",
    "from matplotlib import rcParams\n",
    "rcParams['axes.labelsize'] = 12\n",
    "rcParams['xtick.labelsize'] = 12\n",
    "rcParams['ytick.labelsize'] = 12\n",
    "rcParams['legend.fontsize'] = 12\n",
    "rcParams['font.family'] = 'serif'\n",
    "rcParams['figure.facecolor'] = 'w'"
   ]
  },
  {
   "cell_type": "code",
   "execution_count": 5,
   "metadata": {},
   "outputs": [],
   "source": [
    "basePath = '/home/tnguser/sims.TNG/TNG100-1/output'\n",
    "dataPath = '../Particles-TNG-100/'\n",
    "snapNum0 = 99         \n",
    "h0= 0.6774"
   ]
  },
  {
   "cell_type": "markdown",
   "metadata": {},
   "source": [
    "## Find a List of MW-mass haloes at redshift z=0"
   ]
  },
  {
   "cell_type": "code",
   "execution_count": 6,
   "metadata": {},
   "outputs": [],
   "source": [
    "GroupFirstSub = il.groupcat.loadHalos(basePath,snapNum0,fields=['GroupFirstSub'])\n",
    "\n",
    "fields = ['SubhaloMassType',]\n",
    "subhalos = il.groupcat.loadSubhalos(basePath,snapNum0,fields=fields)\n",
    "dm=subhalos[:,1]*(1e10/h0)\n",
    "sm=subhalos[:,4]*(1e10/h0)\n",
    "mask=((dm>0.8e12) & (dm<2e12)) & ((sm>2e10) & (sm<1e11))\n",
    "arg_list_prospective=np.where(mask)[0]\n",
    "\n",
    "arg=np.in1d(arg_list_prospective,GroupFirstSub)\n",
    "subfindID_prospective=arg_list_prospective[arg]"
   ]
  },
  {
   "cell_type": "code",
   "execution_count": 8,
   "metadata": {},
   "outputs": [],
   "source": [
    "# choose one particular galaxy\n",
    "subfindID0=subfindID_prospective[1]"
   ]
  },
  {
   "cell_type": "markdown",
   "metadata": {},
   "source": [
    "## Read data of a particular subhalo \n",
    "\n",
    "They contain the information in several groups.\n",
    "* PartType0 — GAS\n",
    "* PartType1 — DM\n",
    "* PartType2 — (unused)\n",
    "* PartType3 — TRACERS\n",
    "* PartType4 — STARS & WIND PARTICLES \n",
    "* PartType5 — BLACK HOLES."
   ]
  },
  {
   "cell_type": "code",
   "execution_count": 10,
   "metadata": {},
   "outputs": [],
   "source": [
    "gas=il.snapshot.loadSubhalo(basePath, snapNum0, subfindID0, 0)\n",
    "dm= il.snapshot.loadSubhalo(basePath, snapNum0, subfindID0, 1)\n",
    "stars=il.snapshot.loadSubhalo(basePath, snapNum0, subfindID0, 4)\n",
    "BHs=il.snapshot.loadSubhalo(basePath, snapNum0, subfindID0, 5)"
   ]
  },
  {
   "cell_type": "markdown",
   "metadata": {},
   "source": [
    "# To load data from a group, using the function \n",
    "def loadHalo(basePath, snapNum, id, partType, fields=None):\n",
    "    \"\"\" Load all particles/cells of one type for a specific halo\n",
    "        (optionally restricted to a subset fields). \"\"\"\n",
    "    # load halo length, compute offset, call loadSubset"
   ]
  },
  {
   "cell_type": "markdown",
   "metadata": {},
   "source": [
    "## Stellar particles"
   ]
  },
  {
   "cell_type": "code",
   "execution_count": 13,
   "metadata": {},
   "outputs": [
    {
     "data": {
      "text/plain": [
       "['count',\n",
       " 'BirthPos',\n",
       " 'BirthVel',\n",
       " 'Coordinates',\n",
       " 'GFM_InitialMass',\n",
       " 'GFM_Metallicity',\n",
       " 'GFM_Metals',\n",
       " 'GFM_MetalsTagged',\n",
       " 'GFM_StellarFormationTime',\n",
       " 'GFM_StellarPhotometrics',\n",
       " 'Masses',\n",
       " 'ParticleIDs',\n",
       " 'Potential',\n",
       " 'StellarHsml',\n",
       " 'SubfindDMDensity',\n",
       " 'SubfindDensity',\n",
       " 'SubfindHsml',\n",
       " 'SubfindVelDisp',\n",
       " 'Velocities']"
      ]
     },
     "execution_count": 13,
     "metadata": {},
     "output_type": "execute_result"
    }
   ],
   "source": [
    "# Information stored for stars\n",
    "list(stars.keys())"
   ]
  },
  {
   "cell_type": "code",
   "execution_count": 31,
   "metadata": {},
   "outputs": [],
   "source": [
    "stellar_ids= stars['ParticleIDs']                  # unique id of the particle in the simulation  \n",
    "stellar_coordinates= stars['Coordinates']/h0        # in Units of kpc/h\n",
    "stellar_masses=stars['Masses']*1e10/h0              # in Units of 10^10 M_sun/h (by multiplying by 1e10 in solar units)\n",
    "stellar_velocities=stars['Velocities']             # in Units of kms/s\n",
    "stellar_formationtime=stars['GFM_StellarFormationTime'] # formation time of stars in terms of scale factor (see above).\n",
    "stellar_metallicity=stars['GFM_Metallicity']       # Ratio of mass in metals to the total stellar mass (see below)"
   ]
  },
  {
   "cell_type": "code",
   "execution_count": 21,
   "metadata": {},
   "outputs": [],
   "source": [
    "# Metallicity\n",
    "# metal_mask = np.log10(stellar_metallicity) < -7\n",
    "# stellar_metallicity[metal_mask] = 1e-7\n",
    "    \n",
    "# lmetallicity=np.log10(stellar_metallicity/0.0127) - factor\n",
    "# If you wish to quote the metallicity as [M/H], factor = 0.\n",
    "# If you wish to quote the metalliicty as [Fe/H], factor = 0.3 (consult with Eric later)    "
   ]
  },
  {
   "cell_type": "markdown",
   "metadata": {},
   "source": [
    "### Get accreted Tags"
   ]
  },
  {
   "cell_type": "code",
   "execution_count": 20,
   "metadata": {},
   "outputs": [],
   "source": [
    "(mask_mpb, mask_fof, mask_ext)=TAG.create_tags(stellar_ids, subfindID0, snapNum0, basePath, dataPath)\n",
    "# Three masks where the particular star was born.\n",
    "# mpb - main progenitor branch.\n",
    "# fof - within the Group of the main progenitor branch.\n",
    "# ext - was born external to the galaxy outside the group.\n",
    "\n",
    "# would consider mask_mpb as 'real insitu stars'\n",
    "# would consider mask_fof as 'commuter stars'\n",
    "# would consider mask_ext as 'truly accreted stars'."
   ]
  },
  {
   "cell_type": "code",
   "execution_count": 35,
   "metadata": {},
   "outputs": [],
   "source": [
    "# The galaxy position is that in the main simulation. For the purpose of this, we will like to center it on the galaxy.\n",
    "galpos1=np.median(dm['Coordinates']/h0,axis=0)\n",
    "velpos1=np.median(dm['Velocities'],axis=0)"
   ]
  },
  {
   "cell_type": "code",
   "execution_count": 36,
   "metadata": {},
   "outputs": [],
   "source": [
    "# get to the CM\n",
    "stellar_coordinates=stellar_coordinates-galpos1\n",
    "stellar_velocities=stellar_velocities-velpos1\n"
   ]
  },
  {
   "cell_type": "code",
   "execution_count": 37,
   "metadata": {},
   "outputs": [],
   "source": [
    "# find the accreted component    \n",
    "stellar_masses_acc              = stellar_masses[mask_ext]\n",
    "stellar_coordinates_acc         = stellar_coordinates[mask_ext]\n",
    "stellar_velocities_acc          = stellar_velocities[mask_ext]\n",
    "stellar_formationtime_acc       = stellar_formationtime[mask_ext]\n",
    "stellar_metallicity_acc         = stellar_metallicity[mask_ext]\n"
   ]
  },
  {
   "cell_type": "code",
   "execution_count": 38,
   "metadata": {},
   "outputs": [],
   "source": [
    "total_stellar_mass=np.sum(stellar_masses)\n",
    "total_accreted_stellar_mass=np.sum(stellar_masses_acc)"
   ]
  },
  {
   "cell_type": "code",
   "execution_count": 39,
   "metadata": {},
   "outputs": [
    {
     "data": {
      "image/png": "[encoded data removed]",
      "text/plain": [
       "<Figure size 360x360 with 1 Axes>"
      ]
     },
     "metadata": {},
     "output_type": "display_data"
    }
   ],
   "source": [
    "# example plot\n",
    "\n",
    "# lets plot all the Dark matter and stellar particles, and show which stellar particles are accerted.\n",
    "fig = plt.figure(figsize=(5, 5))\n",
    "ax1=fig.add_axes([0.15,0.15,0.8,0.8])\n",
    "ax1.set_xlim([-500,500])\n",
    "ax1.set_ylim([-500,500])\n",
    "ax1.set_xlabel(\"kpc\")\n",
    "ax1.set_ylabel(\"kpc\")\n",
    "\n",
    "ax1.scatter(stellar_coordinates[:,2],stellar_coordinates[:,0],c='b',alpha=0.6,marker=',',s=3,label=\"Stellar Insitu\")\n",
    "ax1.scatter(stellar_coordinates_acc[:,2],stellar_coordinates_acc[:,0],c='y',alpha=0.6,marker=',',s=3,label=\"Stellar Accreted\")\n",
    "plt.legend()\n",
    "plt.show()"
   ]
  },
  {
   "cell_type": "code",
   "execution_count": null,
   "metadata": {},
   "outputs": [],
   "source": []
  }
 ],
 "metadata": {
  "kernelspec": {
   "display_name": "Python 3",
   "language": "python",
   "name": "python3"
  },
  "language_info": {
   "codemirror_mode": {
    "name": "ipython",
    "version": 3
   },
   "file_extension": ".py",
   "mimetype": "text/x-python",
   "name": "python",
   "nbconvert_exporter": "python",
   "pygments_lexer": "ipython3",
   "version": "3.6.7"
  }
 },
 "nbformat": 4,
 "nbformat_minor": 2
}
