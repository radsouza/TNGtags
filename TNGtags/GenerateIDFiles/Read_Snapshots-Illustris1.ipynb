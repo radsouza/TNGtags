{
 "cells": [
  {
   "cell_type": "markdown",
   "metadata": {},
   "source": [
    "# Generate ParticleID Files for Illustris"
   ]
  },
  {
   "cell_type": "code",
   "execution_count": null,
   "metadata": {},
   "outputs": [],
   "source": [
    "import numpy as np\n",
    "from readSnap import create_particleID_file\n",
    "import os, os.path"
   ]
  },
  {
   "cell_type": "code",
   "execution_count": null,
   "metadata": {},
   "outputs": [],
   "source": [
    "dirName='../Particles-Illustris-1'\n",
    "basePath = '/home/tnguser/sims.illustris/Illustris-1/output'"
   ]
  },
  {
   "cell_type": "code",
   "execution_count": null,
   "metadata": {},
   "outputs": [],
   "source": [
    "for snapNum in range(135, 2, -1):\n",
    "    # Take care of missing snapshots in Illustris 1\n",
    "    if snapNum==55:\n",
    "        continue\n",
    "    if snapNum==53:\n",
    "        continue\n",
    "    \n",
    "    writeFile=dirName+'/data_'+str(snapNum)+'.hdf5'\n",
    "    create_particleID_file(basePath,snapNum,writeFile)"
   ]
  },
  {
   "cell_type": "code",
   "execution_count": null,
   "metadata": {},
   "outputs": [],
   "source": []
  }
 ],
 "metadata": {
  "kernelspec": {
   "display_name": "Python 3",
   "language": "python",
   "name": "python3"
  },
  "language_info": {
   "codemirror_mode": {
    "name": "ipython",
    "version": 3
   },
   "file_extension": ".py",
   "mimetype": "text/x-python",
   "name": "python",
   "nbconvert_exporter": "python",
   "pygments_lexer": "ipython3",
   "version": "3.6.7"
  }
 },
 "nbformat": 4,
 "nbformat_minor": 2
}
