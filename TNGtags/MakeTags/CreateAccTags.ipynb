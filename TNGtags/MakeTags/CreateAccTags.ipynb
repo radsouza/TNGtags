{
 "cells": [
  {
   "cell_type": "code",
   "execution_count": 1,
   "metadata": {},
   "outputs": [],
   "source": [
    "import illustris_python as il\n",
    "import numpy as np\n",
    "import h5py\n",
    "from groupcat import gcPath, offsetPath"
   ]
  },
  {
   "cell_type": "code",
   "execution_count": 2,
   "metadata": {},
   "outputs": [],
   "source": [
    "from importlib import reload  "
   ]
  },
  {
   "cell_type": "code",
   "execution_count": 3,
   "metadata": {},
   "outputs": [],
   "source": [
    "from findAccTags import loadIDsSubhalos, loadIDsGroups, getMergerTrees, create_tags"
   ]
  },
  {
   "cell_type": "code",
   "execution_count": 4,
   "metadata": {},
   "outputs": [],
   "source": [
    "basePath = '/home/tnguser/sims.TNG/TNG100-1/output'\n",
    "dataPath = '../Particles-TNG-100/'\n",
    "snapNum0 = 99         \n",
    "h0= 0.6774"
   ]
  },
  {
   "cell_type": "markdown",
   "metadata": {},
   "source": [
    "## Find a List of MW-mass haloes at redshift z=0"
   ]
  },
  {
   "cell_type": "code",
   "execution_count": 5,
   "metadata": {},
   "outputs": [],
   "source": [
    "GroupFirstSub = il.groupcat.loadHalos(basePath,snapNum0,fields=['GroupFirstSub'])\n",
    "\n",
    "fields = ['SubhaloMassType',]\n",
    "subhalos = il.groupcat.loadSubhalos(basePath,snapNum0,fields=fields)\n",
    "dm=subhalos[:,1]*(1e10/h0)\n",
    "sm=subhalos[:,4]*(1e10/h0)\n",
    "mask=((dm>0.8e12) & (dm<2e12)) & ((sm>2e10) & (sm<1e11))\n",
    "arg_list_prospective=np.where(mask)[0]\n",
    "\n",
    "arg=np.in1d(arg_list_prospective,GroupFirstSub)\n",
    "subfindID_prospective=arg_list_prospective[arg]"
   ]
  },
  {
   "cell_type": "code",
   "execution_count": 6,
   "metadata": {},
   "outputs": [],
   "source": [
    "subfindID0=subfindID_prospective[1]"
   ]
  },
  {
   "cell_type": "markdown",
   "metadata": {},
   "source": [
    "## Find Tags of a Subhalo given by its SubfindID"
   ]
  },
  {
   "cell_type": "code",
   "execution_count": 7,
   "metadata": {},
   "outputs": [],
   "source": [
    "# Find particle IDs of subhalo at z=0\n",
    "snapNum0 = 99 \n",
    "partType = 4                 # stars\n",
    "particleIDs=il.snapshot.loadSubhalo(basePath, snapNum0, subfindID0, partType, fields=['ParticleIDs',])"
   ]
  },
  {
   "cell_type": "code",
   "execution_count": 8,
   "metadata": {},
   "outputs": [],
   "source": [
    "# get masks identifying where the particle was born.\n",
    "(particleIDs_mpb, particleIDs_fof, particleIDs_ext)=create_tags(particleIDs, subfindID0, snapNum0, basePath, dataPath)"
   ]
  },
  {
   "cell_type": "code",
   "execution_count": 32,
   "metadata": {},
   "outputs": [
    {
     "name": "stdout",
     "output_type": "stream",
     "text": [
      "25949\n",
      "1357\n",
      "1366\n"
     ]
    }
   ],
   "source": [
    "print(len(np.where(particleIDs_mpb)[0]))\n",
    "print(len(np.where(particleIDs_fof)[0]))\n",
    "print(len(np.where(particleIDs_ext)[0]))"
   ]
  },
  {
   "cell_type": "code",
   "execution_count": null,
   "metadata": {},
   "outputs": [],
   "source": []
  }
 ],
 "metadata": {
  "kernelspec": {
   "display_name": "Python 3",
   "language": "python",
   "name": "python3"
  },
  "language_info": {
   "codemirror_mode": {
    "name": "ipython",
    "version": 3
   },
   "file_extension": ".py",
   "mimetype": "text/x-python",
   "name": "python",
   "nbconvert_exporter": "python",
   "pygments_lexer": "ipython3",
   "version": "3.6.7"
  }
 },
 "nbformat": 4,
 "nbformat_minor": 2
}
